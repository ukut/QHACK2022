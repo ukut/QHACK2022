{
 "cells": [
  {
   "cell_type": "code",
   "execution_count": 1,
   "id": "b627269c-9bac-47d0-9905-bb93cf6089c0",
   "metadata": {},
   "outputs": [
    {
     "name": "stderr",
     "output_type": "stream",
     "text": [
      "<frozen importlib._bootstrap>:219: RuntimeWarning: scipy._lib.messagestream.MessageStream size changed, may indicate binary incompatibility. Expected 56 from C header, got 64 from PyObject\n"
     ]
    }
   ],
   "source": [
    "import numpy as np\n",
    "from qiskit.algorithms.linear_solvers.numpy_linear_solver import NumPyLinearSolver\n",
    "from qiskit.algorithms.linear_solvers.hhl import HHL"
   ]
  },
  {
   "cell_type": "code",
   "execution_count": 5,
   "id": "d387a594-ee12-4a9d-a6b3-9c582a6915a3",
   "metadata": {},
   "outputs": [],
   "source": [
    "matrix=np.array([[1,2],[2,1]])"
   ]
  },
  {
   "cell_type": "code",
   "execution_count": 18,
   "id": "2ab5e46e-550f-4838-b1fb-4a8d33cf61bf",
   "metadata": {},
   "outputs": [
    {
     "data": {
      "text/plain": [
       "array([[1, 2],\n",
       "       [2, 1]])"
      ]
     },
     "execution_count": 18,
     "metadata": {},
     "output_type": "execute_result"
    }
   ],
   "source": [
    "matrix"
   ]
  },
  {
   "cell_type": "code",
   "execution_count": 19,
   "id": "9991ec3e-68be-4f87-bf26-14d4c44c8713",
   "metadata": {},
   "outputs": [
    {
     "data": {
      "text/plain": [
       "array([-1,  6])"
      ]
     },
     "execution_count": 19,
     "metadata": {},
     "output_type": "execute_result"
    }
   ],
   "source": [
    "vector=np.array([-1,6])\n",
    "vector"
   ]
  },
  {
   "cell_type": "code",
   "execution_count": 22,
   "id": "0d75cc7b-67d1-412f-9881-d702a5a131fb",
   "metadata": {},
   "outputs": [
    {
     "name": "stdout",
     "output_type": "stream",
     "text": [
      "{   'circuit_results': None,\n",
      "    'euclidean_norm': 0.8364805435272812,\n",
      "    'observable': None,\n",
      "    'state': <qiskit.circuit.quantumcircuit.QuantumCircuit object at 0x7fd268e3c640>}\n"
     ]
    }
   ],
   "source": [
    "naive_hhl_solution= HHL().solve(matrix, vector)\n",
    "print(naive_hhl_solution)"
   ]
  },
  {
   "cell_type": "code",
   "execution_count": 8,
   "id": "5d7f49c3-dab1-4a84-8046-daa7aa1d90eb",
   "metadata": {},
   "outputs": [],
   "source": [
    "classical_solution = NumPyLinearSolver().solve(matrix, vector / np.linalg.norm(vector))"
   ]
  },
  {
   "cell_type": "code",
   "execution_count": 9,
   "id": "a4154b88-9e3a-49e0-abf1-920478f05aaa",
   "metadata": {},
   "outputs": [],
   "source": [
    "from qiskit.algorithms.linear_solvers.matrices.tridiagonal_toeplitz import TridiagonalToeplitz"
   ]
  },
  {
   "cell_type": "code",
   "execution_count": 10,
   "id": "3e57cd4e-436d-44a4-a83a-4eac3c10bf9f",
   "metadata": {},
   "outputs": [
    {
     "name": "stdout",
     "output_type": "stream",
     "text": [
      "classical state: [ 0.71239561 -0.4383973 ]\n"
     ]
    }
   ],
   "source": [
    " print('classical state:', classical_solution.state)"
   ]
  },
  {
   "cell_type": "code",
   "execution_count": 11,
   "id": "d8d4cd48-a7df-4f6f-95bd-408bde7c125e",
   "metadata": {},
   "outputs": [
    {
     "name": "stdout",
     "output_type": "stream",
     "text": [
      "naive state:\n"
     ]
    }
   ],
   "source": [
    "print('naive state:')"
   ]
  },
  {
   "cell_type": "code",
   "execution_count": 12,
   "id": "0634d68d-610f-44bd-80a9-ba9a46754e24",
   "metadata": {},
   "outputs": [
    {
     "name": "stdout",
     "output_type": "stream",
     "text": [
      "      ┌───────────┐┌──────┐        ┌─────────┐\n",
      "  q4: ┤ circuit-8 ├┤3     ├────────┤3        ├\n",
      "      └───────────┘│      │┌──────┐│         │\n",
      "q5_0: ─────────────┤0     ├┤2     ├┤0        ├\n",
      "                   │  QPE ││      ││  QPE_dg │\n",
      "q5_1: ─────────────┤1     ├┤1     ├┤1        ├\n",
      "                   │      ││  1/x ││         │\n",
      "q5_2: ─────────────┤2     ├┤0     ├┤2        ├\n",
      "                   └──────┘│      │└─────────┘\n",
      "  q6: ─────────────────────┤3     ├───────────\n",
      "                           └──────┘           \n"
     ]
    }
   ],
   "source": [
    "print(naive_hhl_solution.state)"
   ]
  },
  {
   "cell_type": "code",
   "execution_count": 13,
   "id": "de0a9cce-e478-4c2c-aee8-b0ffd2cfcf97",
   "metadata": {},
   "outputs": [
    {
     "name": "stdout",
     "output_type": "stream",
     "text": [
      "tridiagonal state:\n"
     ]
    }
   ],
   "source": [
    "print('tridiagonal state:')"
   ]
  },
  {
   "cell_type": "code",
   "execution_count": 23,
   "id": "d8ebb0f7-fd85-4a59-af3b-7a53a40806c1",
   "metadata": {},
   "outputs": [
    {
     "name": "stdout",
     "output_type": "stream",
     "text": [
      "classical Euclidean norm: 0.8364805435272836\n",
      "naive Euclidean norm: 0.8364805435272812\n"
     ]
    }
   ],
   "source": [
    "print('classical Euclidean norm:', classical_solution.euclidean_norm)\n",
    "print('naive Euclidean norm:', naive_hhl_solution.euclidean_norm)\n"
   ]
  },
  {
   "cell_type": "code",
   "execution_count": 15,
   "id": "ede6b81d-7f09-4b7b-b81b-4e44130e8e79",
   "metadata": {},
   "outputs": [],
   "source": [
    "from qiskit.quantum_info import Statevector"
   ]
  },
  {
   "cell_type": "code",
   "execution_count": 17,
   "id": "48cf62c0-c8b7-4372-b970-541a1d3cbab0",
   "metadata": {},
   "outputs": [],
   "source": [
    "naive_sv = Statevector(naive_hhl_solution.state).data\n"
   ]
  },
  {
   "cell_type": "code",
   "execution_count": null,
   "id": "a8a715e3-a62f-4873-87c3-4533a68f6be1",
   "metadata": {},
   "outputs": [],
   "source": []
  }
 ],
 "metadata": {
  "kernelspec": {
   "display_name": "Qiskit v0.35.0 (ipykernel)",
   "language": "python",
   "name": "python3"
  },
  "language_info": {
   "codemirror_mode": {
    "name": "ipython",
    "version": 3
   },
   "file_extension": ".py",
   "mimetype": "text/x-python",
   "name": "python",
   "nbconvert_exporter": "python",
   "pygments_lexer": "ipython3",
   "version": "3.8.13"
  },
  "widgets": {
   "application/vnd.jupyter.widget-state+json": {
    "state": {},
    "version_major": 2,
    "version_minor": 0
   }
  }
 },
 "nbformat": 4,
 "nbformat_minor": 5
}
